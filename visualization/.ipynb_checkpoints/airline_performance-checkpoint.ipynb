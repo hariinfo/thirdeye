{
 "cells": [
  {
   "cell_type": "code",
   "execution_count": 38,
   "metadata": {},
   "outputs": [],
   "source": [
    "#!pip install elasticsearch-dsl\n",
    "#!pip install cassandra-driver\n",
    "#!pip install elasticsearch\n",
    "#!pip install confluent-kafka"
   ]
  },
  {
   "cell_type": "code",
   "execution_count": 36,
   "metadata": {},
   "outputs": [],
   "source": [
    "from confluent_kafka import Consumer\n",
    "from elasticsearch import Elasticsearch\n",
    "from cassandra.cqlengine import connection\n",
    "from cassandra.cluster import Cluster\n",
    "from cassandra.policies import TokenAwarePolicy, RoundRobinPolicy\n",
    "from elasticsearch_dsl import Search\n",
    "from elasticsearch_dsl import A\n",
    "\n",
    "\n",
    "import pandas as pd\n",
    "import numpy as np\n",
    "import matplotlib.pyplot as plt\n",
    "from sklearn.model_selection import train_test_split\n",
    "from sklearn.linear_model import LinearRegression\n",
    "from IPython.display import Markdown, display\n",
    "\n",
    "# Magic for displaying graphs and charts\n",
    "%matplotlib inline\n",
    "def printmd(string):\n",
    "    display(Markdown(string))\n",
    "import seaborn as sns"
   ]
  },
  {
   "cell_type": "code",
   "execution_count": 4,
   "metadata": {},
   "outputs": [
    {
     "name": "stderr",
     "output_type": "stream",
     "text": [
      "C:\\Users\\harii\\Anaconda3\\lib\\site-packages\\ipykernel_launcher.py:3: DeprecationWarning: Legacy execution parameters will be removed in 4.0. Consider using execution profiles.\n",
      "  This is separate from the ipykernel package so we can avoid doing imports until\n"
     ]
    }
   ],
   "source": [
    "# Apache Cassandra connection\n",
    "list_of_ip = (['192.168.56.101', '192.168.56.102', '192.168.56.103'])\n",
    "cluster = Cluster(list_of_ip,load_balancing_policy=TokenAwarePolicy(RoundRobinPolicy()))\n",
    "session = cluster.connect()\n",
    "session.set_keyspace('thirdeye_test')\n",
    "connection.set_session(session)"
   ]
  },
  {
   "cell_type": "code",
   "execution_count": 5,
   "metadata": {},
   "outputs": [],
   "source": [
    "# Elasticsearch connection\n",
    "es = Elasticsearch()"
   ]
  },
  {
   "cell_type": "markdown",
   "metadata": {},
   "source": [
    "## 1. Simple"
   ]
  },
  {
   "cell_type": "markdown",
   "metadata": {},
   "source": [
    "### 1.1 What is the min/max/average delays for an airline on a given day/month/year? "
   ]
  },
  {
   "cell_type": "code",
   "execution_count": 6,
   "metadata": {},
   "outputs": [
    {
     "name": "stdout",
     "output_type": "stream",
     "text": [
      "{'max_delay': 388, 'min_delay': 0, 'avg_delay': 16}\n"
     ]
    }
   ],
   "source": [
    "#Query primary nosql (cassandra)\n",
    "sql = \"select MAX(arrdelayminutes) as max_delay, \\\n",
    "    MIN(arrdelayminutes) as min_delay, \\\n",
    "    AVG(arrdelayminutes) as avg_delay \\\n",
    "    from thirdeye_test.airlineontime where  \\\n",
    "    year=2017 and month = 1 and dayofmonth=1 ALLOW FILTERING\"\n",
    "\n",
    "rows = session.execute(sql)\n",
    "for row in rows:\n",
    "    print (row)"
   ]
  },
  {
   "cell_type": "code",
   "execution_count": 7,
   "metadata": {},
   "outputs": [
    {
     "name": "stdout",
     "output_type": "stream",
     "text": [
      "{'query': {'bool': {'must': [{'match': {'Year': 2017}}, {'match': {'Month': 1}}, {'match': {'DayofMonth': 1}}]}}, 'aggs': {'category_terms': {'terms': {'field': 'ArrDelayMinutes'}, 'aggs': {'avg_delay': {'avg': {'field': 'ArrDelayMinutes'}}, 'max_delay': {'max': {'field': 'ArrDelayMinutes'}}}}}}\n",
      "<Hit(my-index/MTRE0XABWCivyfFAf-fq): {'Year': 2017, 'Quarter': 1, 'Month': 1, 'DayofMonth': 1, 'D...}>\n",
      "<Hit(my-index/NjRE0XABWCivyfFAgOcJ): {'Year': 2017, 'Quarter': 1, 'Month': 1, 'DayofMonth': 1, 'D...}>\n",
      "<Hit(my-index/czRE0XABWCivyfFAged0): {'Year': 2017, 'Quarter': 1, 'Month': 1, 'DayofMonth': 1, 'D...}>\n",
      "<Hit(my-index/ijRE0XABWCivyfFAgef-): {'Year': 2017, 'Quarter': 1, 'Month': 1, 'DayofMonth': 1, 'D...}>\n",
      "<Hit(my-index/mjRE0XABWCivyfFAgudd): {'Year': 2017, 'Quarter': 1, 'Month': 1, 'DayofMonth': 1, 'D...}>\n",
      "<Hit(my-index/tDRE0XABWCivyfFAguf1): {'Year': 2017, 'Quarter': 1, 'Month': 1, 'DayofMonth': 1, 'D...}>\n",
      "<Hit(my-index/tjRE0XABWCivyfFAg-cB): {'Year': 2017, 'Quarter': 1, 'Month': 1, 'DayofMonth': 1, 'D...}>\n",
      "<Hit(my-index/yTRE0XABWCivyfFAg-d0): {'Year': 2017, 'Quarter': 1, 'Month': 1, 'DayofMonth': 1, 'D...}>\n",
      "<Hit(my-index/0jRE0XABWCivyfFAg-ep): {'Year': 2017, 'Quarter': 1, 'Month': 1, 'DayofMonth': 1, 'D...}>\n",
      "<Hit(my-index/3jRE0XABWCivyfFAg-fw): {'Year': 2017, 'Quarter': 1, 'Month': 1, 'DayofMonth': 1, 'D...}>\n"
     ]
    }
   ],
   "source": [
    "#Query secondary nosql (ES)\n",
    "s = Search(using=es, index=\"my-index\") \\\n",
    "    .query(\"match\", Year=2017) \\\n",
    "    .query(\"match\", Month=1) \\\n",
    "    .query(\"match\", DayofMonth=1)\n",
    "\n",
    "a = A('terms', field='ArrDelayMinutes')\n",
    "a.metric('avg_delay', 'avg', field='ArrDelayMinutes')\\\n",
    "    .bucket('max_delay', 'max', field='ArrDelayMinutes')\n",
    "s.aggs.bucket('category_terms', a)\n",
    "\n",
    "print(s.to_dict())\n",
    "response = s.execute()\n",
    "for hit in response:\n",
    "    print(hit)"
   ]
  },
  {
   "cell_type": "markdown",
   "metadata": {},
   "source": [
    "### 1.2 Top 3 Airlines that did not report the aircraft tail number (Aircraft tail number was null)"
   ]
  },
  {
   "cell_type": "code",
   "execution_count": 8,
   "metadata": {},
   "outputs": [],
   "source": [
    "#Query primary nosql (cassandra)\n",
    "sql = \"select flight_date, max(arrdelayminutes) from thirdeye_test.airlineontime \\\n",
    "where flight_date='2017-01-01' AND  tail_number = 'NaN' \\\n",
    "GROUP BY flight_date \\\n",
    "ALLOW FILTERING\"\n",
    "\n",
    "rows = session.execute(sql)\n",
    "for row in rows:\n",
    "    print (row)\n",
    "    "
   ]
  },
  {
   "cell_type": "code",
   "execution_count": 9,
   "metadata": {},
   "outputs": [],
   "source": [
    "#Query secondary nosql (ES)\n"
   ]
  },
  {
   "cell_type": "markdown",
   "metadata": {},
   "source": [
    "### 1.3 Were there any specific airport with maximum delays on a given day?"
   ]
  },
  {
   "cell_type": "code",
   "execution_count": 76,
   "metadata": {},
   "outputs": [
    {
     "name": "stdout",
     "output_type": "stream",
     "text": [
      "(0, 0)\n"
     ]
    }
   ],
   "source": [
    "#Query primary nosql (cassandra)\n",
    "sql = \"select destinationcityname, CarrierDelay from thirdeye_test.airlineontime \\\n",
    "        where  CarrierDelay > 0 and year=2017 and month =1 and dayofmonth = 5 \\\n",
    "        ALLOW FILTERING\"\n",
    "\n",
    "#Application logic as I can not do aggreation over destinationcityname. Also, DISTINCT is possible only on primary key\n",
    "d = {}\n",
    "df = pd.DataFrame(data=d)\n",
    "print(df.shape)\n",
    "columns = list(df)\n",
    "row_list = []\n",
    "\n",
    "rows = session.execute(sql)\n",
    "for row in rows:\n",
    "    data = {\n",
    "             'destinationcityname' : row['destinationcityname'],\n",
    "             'CarrierDelay' :  row['carrierdelay']\n",
    "         }\n",
    "    df = df.append(data, ignore_index=True)\n",
    "#print(df.shape)\n",
    "#print(df.groupby(\"destinationcityname\", sort=True)[\"CarrierDelay\"].count())\n"
   ]
  },
  {
   "cell_type": "code",
   "execution_count": 78,
   "metadata": {},
   "outputs": [
    {
     "data": {
      "image/png": "[encoded data removed]",
      "text/plain": [
       "<Figure size 720x360 with 1 Axes>"
      ]
     },
     "metadata": {},
     "output_type": "display_data"
    }
   ],
   "source": [
    "#df.groupby(['destinationcityname']).count()['CarrierDelay'].plot(ax=ax)\n",
    "city_count  = df['destinationcityname'].value_counts()\n",
    "city_count = city_count[:25,]\n",
    "plt.figure(figsize=(10,5))\n",
    "sns.barplot(city_count.index, city_count.values, alpha=0.8)\n",
    "plt.title('Maximum delay (Limited to top 25) on 01/05/2017')\n",
    "plt.ylabel('Number of Delays', fontsize=12)\n",
    "plt.xlabel('city', fontsize=12)\n",
    "plt.xticks(rotation=70)\n",
    "plt.show()\n"
   ]
  },
  {
   "cell_type": "code",
   "execution_count": null,
   "metadata": {},
   "outputs": [],
   "source": [
    "#Query secondary nosql (ES)\n"
   ]
  },
  {
   "cell_type": "markdown",
   "metadata": {},
   "source": [
    "### 1.4 What is the min/max and average time between delays by delay type on a given day?"
   ]
  },
  {
   "cell_type": "code",
   "execution_count": 102,
   "metadata": {},
   "outputs": [
    {
     "data": {
      "text/plain": [
       "<matplotlib.axes._subplots.AxesSubplot at 0x24d26d22948>"
      ]
     },
     "execution_count": 102,
     "metadata": {},
     "output_type": "execute_result"
    },
    {
     "data": {
      "image/png": "[encoded data removed]",
      "text/plain": [
       "<Figure size 432x288 with 1 Axes>"
      ]
     },
     "metadata": {},
     "output_type": "display_data"
    }
   ],
   "source": [
    "#Query primary nosql (cassandra)\n",
    "sql1 = 'select MAX(WeatherDelay) as max_delay, MIN(WeatherDelay) as min_delay, AVG(WeatherDelay) as avg_delay \\\n",
    "        from thirdeye_test.airlineontime where \\\n",
    "        year=2017 and month =1 and dayofmonth = 5 ALLOW FILTERING'\n",
    "\n",
    "sql2 = 'select MAX(LateAircraftDelay) as max_delay, MIN(LateAircraftDelay) as min_delay, AVG(LateAircraftDelay) as avg_delay \\\n",
    "        from thirdeye_test.airlineontime where \\\n",
    "        year=2017 and month =1 and dayofmonth = 5 ALLOW FILTERING'\n",
    "\n",
    "sql3 = 'select MAX(NASDelay) as max_delay, MIN(NASDelay) as min_delay, AVG(NASDelay) as avg_delay \\\n",
    "        from thirdeye_test.airlineontime where \\\n",
    "        year=2017 and month =1 and dayofmonth = 5 ALLOW FILTERING'\n",
    "\n",
    "sql4 = 'select MAX(SecurityDelay) as max_delay, MIN(SecurityDelay) as min_delay, AVG(SecurityDelay) as avg_delay \\\n",
    "        from thirdeye_test.airlineontime where \\\n",
    "        year=2017 and month =1 and dayofmonth = 5 ALLOW FILTERING'\n",
    "\n",
    "sql5 = 'select MAX(CarrierDelay) as max_delay, MIN(CarrierDelay) as min_delay, AVG(CarrierDelay) as avg_delay \\\n",
    "        from thirdeye_test.airlineontime where \\\n",
    "        year=2017 and month =1 and dayofmonth = 5 ALLOW FILTERING'\n",
    "\n",
    "d = {}\n",
    "df = pd.DataFrame(data=d)\n",
    "\n",
    "rows1 = session.execute(sql1)\n",
    "for row1 in rows1:\n",
    "    data = {\n",
    "             'delay': 'WeatherDelay',\n",
    "             'max_delay' : row1['max_delay'],\n",
    "             'min_delay' :  row1['min_delay'],\n",
    "             'avg_delay' :  row1['avg_delay'],\n",
    "         }\n",
    "    df = df.append(data, ignore_index=True)\n",
    "\n",
    "rows2 = session.execute(sql2)\n",
    "for row2 in rows2:\n",
    "    data = {\n",
    "         'delay': 'LateAircraftDelay',\n",
    "         'max_delay' : row2['max_delay'],\n",
    "         'min_delay' :  row2['min_delay'],\n",
    "         'avg_delay' :  row2['avg_delay'],\n",
    "     }\n",
    "    df = df.append(data, ignore_index=True)\n",
    "    \n",
    "rows3 = session.execute(sql3)\n",
    "for row3 in rows3:\n",
    "    data = {\n",
    "         'delay': 'NASDelay',\n",
    "         'max_delay' : row3['max_delay'],\n",
    "         'min_delay' :  row3['min_delay'],\n",
    "         'avg_delay' :  row3['avg_delay'],\n",
    "     }\n",
    "    df = df.append(data, ignore_index=True)\n",
    "    \n",
    "rows4 = session.execute(sql4)\n",
    "for row4 in rows4:\n",
    "    data = {\n",
    "         'delay': 'SecurityDelay',\n",
    "         'max_delay' : row4['max_delay'],\n",
    "         'min_delay' :  row4['min_delay'],\n",
    "         'avg_delay' :  row4['avg_delay'],\n",
    "     }\n",
    "    df = df.append(data, ignore_index=True)\n",
    "    \n",
    "rows5 = session.execute(sql5)\n",
    "for row5 in rows5:\n",
    "    data = {\n",
    "         'delay': 'CarrierDelay',\n",
    "         'max_delay' : row5['max_delay'],\n",
    "         'min_delay' :  row5['min_delay'],\n",
    "         'avg_delay' :  row5['avg_delay'],\n",
    "     }\n",
    "    df = df.append(data, ignore_index=True)\n",
    "    \n",
    "df.plot(x=\"delay\", y=[\"max_delay\", \"min_delay\", \"avg_delay\"], kind=\"bar\")"
   ]
  },
  {
   "cell_type": "code",
   "execution_count": null,
   "metadata": {},
   "outputs": [],
   "source": []
  },
  {
   "cell_type": "markdown",
   "metadata": {},
   "source": [
    "### 1.5 Categories the number of delays by delay type"
   ]
  },
  {
   "cell_type": "code",
   "execution_count": 103,
   "metadata": {},
   "outputs": [
    {
     "data": {
      "text/plain": [
       "<matplotlib.axes._subplots.AxesSubplot at 0x24d25464188>"
      ]
     },
     "execution_count": 103,
     "metadata": {},
     "output_type": "execute_result"
    },
    {
     "data": {
      "image/png": "[encoded data removed]",
      "text/plain": [
       "<Figure size 432x288 with 1 Axes>"
      ]
     },
     "metadata": {},
     "output_type": "display_data"
    }
   ],
   "source": [
    "#Query primary nosql (cassandra)\n",
    "#Query secondary nosql (ES)\n",
    "sql1 = 'select count(WeatherDelay) as WeatherDelay \\\n",
    "        from thirdeye_test.airlineontime where \\\n",
    "        WeatherDelay > 0 ALLOW FILTERING'\n",
    "sql2 = 'select count(LateAircraftDelay) as LateAircraftDelay \\\n",
    "        from thirdeye_test.airlineontime where \\\n",
    "        LateAircraftDelay > 0 ALLOW FILTERING'\n",
    "sql3 = 'select count(NASDelay) as NASDelay \\\n",
    "        from thirdeye_test.airlineontime where \\\n",
    "        NASDelay > 0 ALLOW FILTERING'\n",
    "sql4 = 'select count(SecurityDelay) as SecurityDelay \\\n",
    "        from thirdeye_test.airlineontime where \\\n",
    "        SecurityDelay > 0 ALLOW FILTERING'\n",
    "sql5 = 'select count(CarrierDelay) as CarrierDelay \\\n",
    "        from thirdeye_test.airlineontime where \\\n",
    "        CarrierDelay > 0 ALLOW FILTERING'\n",
    "\n",
    "d = {}\n",
    "df = pd.DataFrame(data=d)\n",
    "\n",
    "rows1 = session.execute(sql1)\n",
    "for row1 in rows1:\n",
    "    data = {\n",
    "             'delay': 'WeatherDelay',\n",
    "             'delay_count' : row1['weatherdelay']\n",
    "         }\n",
    "    df = df.append(data, ignore_index=True)\n",
    "\n",
    "rows2 = session.execute(sql2)\n",
    "for row2 in rows2:\n",
    "    data = {\n",
    "         'delay': 'LateAircraftDelay',\n",
    "         'delay_count' : row2['lateaircraftdelay']\n",
    "     }\n",
    "    df = df.append(data, ignore_index=True)\n",
    "    \n",
    "rows3 = session.execute(sql3)\n",
    "for row3 in rows3:\n",
    "    data = {\n",
    "         'delay': 'NASDelay',\n",
    "         'delay_count' : row3['nasdelay']\n",
    "     }\n",
    "    df = df.append(data, ignore_index=True)\n",
    "    \n",
    "rows4 = session.execute(sql4)\n",
    "for row4 in rows4:\n",
    "    data = {\n",
    "         'delay': 'SecurityDelay',\n",
    "         'delay_count' : row4['securitydelay']\n",
    "     }\n",
    "    df = df.append(data, ignore_index=True)\n",
    "    \n",
    "rows5 = session.execute(sql5)\n",
    "for row5 in rows5:\n",
    "    data = {\n",
    "         'delay': 'CarrierDelay',\n",
    "         'delay_count' : row5['carrierdelay']\n",
    "     }\n",
    "    df = df.append(data, ignore_index=True)\n",
    "    \n",
    "df.plot(x=\"delay\", y=[\"delay_count\"], kind=\"bar\")"
   ]
  },
  {
   "cell_type": "code",
   "execution_count": null,
   "metadata": {},
   "outputs": [],
   "source": [
    "#Query secondary nosql (ES)\n"
   ]
  },
  {
   "cell_type": "markdown",
   "metadata": {},
   "source": [
    "### 1.6 What is the min, max and average time between the planned and actual arrival time of the aircraft by airline?"
   ]
  },
  {
   "cell_type": "code",
   "execution_count": null,
   "metadata": {},
   "outputs": [],
   "source": [
    "#Query primary nosql (cassandra)\n"
   ]
  },
  {
   "cell_type": "code",
   "execution_count": null,
   "metadata": {},
   "outputs": [],
   "source": [
    "#Query secondary nosql (ES)\n"
   ]
  },
  {
   "cell_type": "markdown",
   "metadata": {},
   "source": [
    "## 2. Moderate"
   ]
  },
  {
   "cell_type": "markdown",
   "metadata": {},
   "source": [
    "### 2.1 What delay type is most common at each airport (over a month, quarter or year)?"
   ]
  },
  {
   "cell_type": "code",
   "execution_count": null,
   "metadata": {},
   "outputs": [],
   "source": [
    "#Query primary nosql (cassandra)\n"
   ]
  },
  {
   "cell_type": "code",
   "execution_count": null,
   "metadata": {},
   "outputs": [],
   "source": [
    "#Query secondary nosql (ES)\n"
   ]
  },
  {
   "cell_type": "markdown",
   "metadata": {},
   "source": [
    "### 2.2 Did privately managed airlines perform better than publicly traded ones?"
   ]
  },
  {
   "cell_type": "code",
   "execution_count": null,
   "metadata": {},
   "outputs": [],
   "source": [
    "#Query primary nosql (cassandra)\n"
   ]
  },
  {
   "cell_type": "code",
   "execution_count": null,
   "metadata": {},
   "outputs": [],
   "source": [
    "#Query secondary nosql (ES)\n"
   ]
  },
  {
   "cell_type": "markdown",
   "metadata": {},
   "source": [
    "### 2.3 What airline had the most delays each month?"
   ]
  },
  {
   "cell_type": "code",
   "execution_count": null,
   "metadata": {},
   "outputs": [],
   "source": [
    "#Query primary nosql (cassandra)\n"
   ]
  },
  {
   "cell_type": "code",
   "execution_count": null,
   "metadata": {},
   "outputs": [],
   "source": [
    "#Query secondary nosql (ES)\n"
   ]
  },
  {
   "cell_type": "markdown",
   "metadata": {},
   "source": [
    "## 3. Difficult"
   ]
  },
  {
   "cell_type": "markdown",
   "metadata": {},
   "source": [
    "### 3.1 How did other airlines (peers) perform during bad weather (over a month, quarter or year)?"
   ]
  },
  {
   "cell_type": "code",
   "execution_count": null,
   "metadata": {},
   "outputs": [],
   "source": [
    "#Query primary nosql (cassandra)\n"
   ]
  },
  {
   "cell_type": "code",
   "execution_count": null,
   "metadata": {},
   "outputs": [],
   "source": [
    "#Query secondary nosql (ES)\n"
   ]
  },
  {
   "cell_type": "markdown",
   "metadata": {},
   "source": [
    "### 3.2. Is the airline at fault for the delay and should it compensate the customers?"
   ]
  },
  {
   "cell_type": "code",
   "execution_count": null,
   "metadata": {},
   "outputs": [],
   "source": [
    "#Query primary nosql (cassandra)\n"
   ]
  },
  {
   "cell_type": "code",
   "execution_count": null,
   "metadata": {},
   "outputs": [],
   "source": [
    "#Query secondary nosql (ES)\n"
   ]
  },
  {
   "cell_type": "markdown",
   "metadata": {},
   "source": [
    "### 3.3 Was there any correlation between delay trends and companies stock performance?"
   ]
  },
  {
   "cell_type": "code",
   "execution_count": null,
   "metadata": {},
   "outputs": [],
   "source": [
    "#Query primary nosql (cassandra)\n"
   ]
  },
  {
   "cell_type": "code",
   "execution_count": null,
   "metadata": {},
   "outputs": [],
   "source": [
    "#Query secondary nosql (ES)\n"
   ]
  },
  {
   "cell_type": "markdown",
   "metadata": {},
   "source": [
    "### 3.4 Did airlines with modernized fleet perform better during bad weather?"
   ]
  },
  {
   "cell_type": "code",
   "execution_count": null,
   "metadata": {},
   "outputs": [],
   "source": [
    "#Query primary nosql (cassandra)\n"
   ]
  },
  {
   "cell_type": "code",
   "execution_count": null,
   "metadata": {},
   "outputs": [],
   "source": [
    "#Query secondary nosql (ES)\n"
   ]
  }
 ],
 "metadata": {
  "kernelspec": {
   "display_name": "Python 3",
   "language": "python",
   "name": "python3"
  },
  "language_info": {
   "codemirror_mode": {
    "name": "ipython",
    "version": 3
   },
   "file_extension": ".py",
   "mimetype": "text/x-python",
   "name": "python",
   "nbconvert_exporter": "python",
   "pygments_lexer": "ipython3",
   "version": "3.7.4"
  }
 },
 "nbformat": 4,
 "nbformat_minor": 2
}
